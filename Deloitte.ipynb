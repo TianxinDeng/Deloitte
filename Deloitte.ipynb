#五行缺钱组半决赛作品
import numpy as np
